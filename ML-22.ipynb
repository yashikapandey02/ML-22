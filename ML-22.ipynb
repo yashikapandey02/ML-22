{
 "cells": [
  {
   "cell_type": "code",
   "execution_count": null,
   "id": "df58d426",
   "metadata": {},
   "outputs": [],
   "source": [
    "1. Is there any way to combine five different models that have all been trained on the same training data and have all achieved\n",
    "95 percent precision? If so, how can you go about doing it? If not, what is the reason ?\n",
    "\n",
    "Ans: Hybrid Model: A technique that combines two or more different machine learning models in some way. But we can't get 95\n",
    "        percent precision as all other models give different precision rate accuracy is differed."
   ]
  },
  {
   "cell_type": "code",
   "execution_count": null,
   "id": "1be83c36",
   "metadata": {},
   "outputs": [],
   "source": [
    "2. What's the difference between hard voting classifiers and soft voting classifiers ?\n",
    "\n",
    "Ans: In hard voting (also known as majority voting), every individual classifier votes for a class, and the majority wins. In \n",
    "    statistical terms, the predicted target label of the ensemble is the mode of the distribution of individually predicted \n",
    "    labels.\n",
    "\n",
    "In soft voting, every individual classifier provides a probability value that a specific data point belongs to a particular\n",
    "target class. The predictions are weighted by the classifier's importance and summed up. Then the target label with the\n",
    "greatest sum of weighted probabilities wins the vote."
   ]
  },
  {
   "cell_type": "code",
   "execution_count": null,
   "id": "e8ae5d1c",
   "metadata": {},
   "outputs": [],
   "source": [
    "3. Is it possible to distribute a bagging ensemble's training through several servers to speed up the process? Pasting\n",
    "ensembles, boosting ensembles, Random Forests, and stacking ensembles are all options ?\n",
    "\n",
    "Ans: When sampling is performed without replacement, it is called pasting. In other words, both approaches are similar.In both\n",
    "    cases you are sampling the training data to build multiple instances of a classifier.\n",
    "\n",
    "Boosting is a general ensemble method that creates a strong classifier from a number of weak classifiers. This is done by \n",
    "building a model from the training data, then creating a second model that attempts to correct the errors from the first model. \n",
    "It is the best starting point for understanding boosting."
   ]
  },
  {
   "cell_type": "code",
   "execution_count": null,
   "id": "0e6fe6b8",
   "metadata": {},
   "outputs": [],
   "source": [
    "4. What is the advantage of evaluating out of the bag ?\n",
    "\n",
    "Ans: The advantage of the OOB method is that it requires less computation and allows one to test the model as it is being \n",
    "    trained."
   ]
  },
  {
   "cell_type": "code",
   "execution_count": null,
   "id": "bc03bdc6",
   "metadata": {},
   "outputs": [],
   "source": [
    "5. What distinguishes Extra-Trees from ordinary Random Forests? What good would this extra randomness do? Is it true that\n",
    "Extra-Tree Random Forests are slower or faster than normal Random Forests ?\n",
    "\n",
    "Ans: Random forest uses bootstrap replicas, that is to say, it subsamples the input data with replacement, whereas Extra \n",
    "    Trees use the whole original sample. This may increase variance because bootstrapping makes it more diversified.\n",
    "\n",
    "Random forest adds additional randomness to the model, while growing the trees. Instead of searching for the most important \n",
    "feature while splitting a node, it searches for the best feature among a random subset of features. This results in a wide \n",
    "diversity that generally results in a better model. Extra Trees is much faster.\n",
    "\n",
    "This is because instead of looking for the optimal split at each node it does it randomly."
   ]
  },
  {
   "cell_type": "code",
   "execution_count": null,
   "id": "cbe77d9f",
   "metadata": {},
   "outputs": [],
   "source": [
    "6. Which hyperparameters and how do you tweak if your AdaBoost ensemble underfits the training data ?\n",
    "\n",
    "Ans: If your AdaBoost ensemble underfits the training data, you can try increasing the number of estimators or reducing the\n",
    "    regularization hyperparameters of the base estimator. You may also try slightly increasing the learning rate."
   ]
  },
  {
   "cell_type": "code",
   "execution_count": null,
   "id": "d6be46de",
   "metadata": {},
   "outputs": [],
   "source": [
    "7. Should you raise or decrease the learning rate if your Gradient Boosting ensemble overfits the training set ?\n",
    "\n",
    "Ans: If your Gradient Boosting ensemble overfits the training set, you should try decreasing the learning rate. You could also\n",
    "    use early stopping to find the right number of predictors (you probably have too many)"
   ]
  }
 ],
 "metadata": {
  "kernelspec": {
   "display_name": "Python 3 (ipykernel)",
   "language": "python",
   "name": "python3"
  },
  "language_info": {
   "codemirror_mode": {
    "name": "ipython",
    "version": 3
   },
   "file_extension": ".py",
   "mimetype": "text/x-python",
   "name": "python",
   "nbconvert_exporter": "python",
   "pygments_lexer": "ipython3",
   "version": "3.10.9"
  }
 },
 "nbformat": 4,
 "nbformat_minor": 5
}
